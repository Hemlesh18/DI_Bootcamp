{
 "cells": [
  {
   "cell_type": "code",
   "execution_count": 1,
   "metadata": {},
   "outputs": [],
   "source": [
    "class Circle:\n",
    "    def __init__(self, val1=0.0, diameter=False):\n",
    "        self._diameter = diameter\n",
    "        if diameter is False:\n",
    "            self._radius = val1 \n",
    "        else:\n",
    "            self._radius = val1 / 2.0\n",
    "    \n",
    "    @property\n",
    "    def radius(self):\n",
    "        return self._radius\n",
    "    \n",
    "    @property\n",
    "    def diameter(self):\n",
    "        return self._radius * 2.0\n",
    "\n",
    "    @radius.setter\n",
    "    def radius(self, rad):\n",
    "        self._radius = rad\n",
    "        \n",
    "    @diameter.setter\n",
    "    def diameter(self, diameter):\n",
    "        self._radius = diameter/2.0\n",
    "  \n",
    "    @property\n",
    "    def area(self):\n",
    "        return 3.14 * self._radius * self._radius\n",
    "      \n",
    "    def __str__(self):\n",
    "        return 'Circle with Radius:' + str(self._radius)\n",
    "  \n",
    "    def __add__(self,another):\n",
    "        return Circle(self._radius + another._radius)\n",
    "  \n",
    "    def __lt__(self, another):\n",
    "        return self._radius < another._radius\n",
    "  \n",
    "    def __eq__(self, another):\n",
    "        return self._radius == another._radius\n",
    "  \n",
    "\n",
    "\n",
    "   \n",
    "    "
   ]
  }
 ],
 "metadata": {
  "kernelspec": {
   "display_name": "Python 3",
   "language": "python",
   "name": "python3"
  },
  "language_info": {
   "codemirror_mode": {
    "name": "ipython",
    "version": 3
   },
   "file_extension": ".py",
   "mimetype": "text/x-python",
   "name": "python",
   "nbconvert_exporter": "python",
   "pygments_lexer": "ipython3",
   "version": "3.10.10"
  },
  "orig_nbformat": 4,
  "vscode": {
   "interpreter": {
    "hash": "fce988eca78b7e655a75f8e44c4fb7e813ebcb66c7fab0a9d458d6b45963c209"
   }
  }
 },
 "nbformat": 4,
 "nbformat_minor": 2
}
